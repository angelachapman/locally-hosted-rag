{
 "cells": [
  {
   "cell_type": "code",
   "execution_count": 2,
   "metadata": {},
   "outputs": [
    {
     "data": {
      "text/plain": [
       "{'model': 'llama3.2:1b',\n",
       " 'created_at': '2024-10-11T00:33:17.799145Z',\n",
       " 'message': {'role': 'assistant',\n",
       "  'content': \"Leaves changing color in the fall is a natural process that occurs when the days get shorter and the weather gets cooler. This process is triggered by the decrease in daylight hours, typically around September or October in the Northern Hemisphere.\\n\\nHere's what happens:\\n\\n1. **Shorter days**: As the Earth continues its orbit around the Sun, the amount of sunlight that reaches the Earth's surface decreases. In the fall, the days get shorter, which means there are fewer hours of daylight for plants to photosynthesize.\\n2. **Cooler temperatures**: As the weather cools down, the trees slow down their growth rate and prepare for winter. This is because they need to conserve energy and resources to survive the cold temperatures.\\n3. **Increased sugar concentration**: In the fall, trees stop producing as much chlorophyll (the green pigment that helps plants absorb sunlight) in preparation for winter. However, other pigments like carotenoids and anthocyanins remain present and start to become visible.\\n4. **Carotenoids and anthocyanins**: Carotenoids are yellow, orange, and brown pigments that are always present in leaves. They're responsible for the autumn colors we see. Anthocyanins, on the other hand, are red or purple pigments produced by plants during stress or ripening. In the fall, these pigments become more prominent as the trees prepare to shed their leaves.\\n5. **Combination of factors**: The combination of shorter days, cooler temperatures, and increased sugar concentration creates a perfect storm for leaf color change.\\n\\nWhen all these factors come together, the leaves change color from green to:\\n\\n* Yellow\\n* Orange\\n* Red\\n* Purple\\n\\nThis beautiful display of autumn colors is a natural part of the cycle, and it's a great time to enjoy the changing foliage before winter sets in.\"},\n",
       " 'done_reason': 'stop',\n",
       " 'done': True,\n",
       " 'total_duration': 15878255958,\n",
       " 'load_duration': 1083216167,\n",
       " 'prompt_eval_count': 33,\n",
       " 'prompt_eval_duration': 67432000,\n",
       " 'eval_count': 374,\n",
       " 'eval_duration': 14725836000}"
      ]
     },
     "execution_count": 2,
     "metadata": {},
     "output_type": "execute_result"
    }
   ],
   "source": [
    "import ollama\n",
    "\n",
    "model = \"llama3.2:1b\"\n",
    "message_content = 'why do leaves change in the fall?'\n",
    "message = {'role': 'user', 'content': message_content}\n",
    "\n",
    "# Try to call ollama directly - this assumes Ollama is already installed, along with the target model\n",
    "ollama.chat(model=model,messages=[message])"
   ]
  },
  {
   "cell_type": "code",
   "execution_count": 3,
   "metadata": {},
   "outputs": [],
   "source": [
    "from langchain_ollama.llms import OllamaLLM\n",
    "llm = OllamaLLM(model=model)"
   ]
  },
  {
   "cell_type": "code",
   "execution_count": 74,
   "metadata": {},
   "outputs": [],
   "source": [
    "from langchain_core.prompts import PromptTemplate\n",
    "\n",
    "RAG_PROMPT_TEMPLATE = \"\"\"\\\n",
    "<|start_header_id|>system<|end_header_id|>\n",
    "You are a helpful potty training assistant. You answer user questions based on context. If you can't answer the question with the context, say you don't know.\n",
    "Context:\n",
    "{context}\n",
    "<|eot_id|>\n",
    "\n",
    "<|start_header_id|>user<|end_header_id|>\n",
    "User Question:\n",
    "{query}\n",
    "<|eot_id|>\n",
    "\n",
    "<|start_header_id|>assistant<|end_header_id|>\n",
    "\"\"\"\n",
    "\n",
    "rag_prompt = PromptTemplate.from_template(RAG_PROMPT_TEMPLATE)"
   ]
  },
  {
   "cell_type": "code",
   "execution_count": 75,
   "metadata": {},
   "outputs": [],
   "source": [
    "rag_chain = rag_prompt | llm"
   ]
  },
  {
   "cell_type": "code",
   "execution_count": 76,
   "metadata": {},
   "outputs": [
    {
     "data": {
      "text/plain": [
       "'Carl is 40 years old.'"
      ]
     },
     "execution_count": 76,
     "metadata": {},
     "output_type": "execute_result"
    }
   ],
   "source": [
    "rag_chain.invoke({\"query\" : \"How old is Carl?\", \"context\" : \"Carl is a sweet dude, he's 40.\"})"
   ]
  },
  {
   "cell_type": "code",
   "execution_count": 7,
   "metadata": {},
   "outputs": [],
   "source": [
    "from langchain_ollama import OllamaEmbeddings\n",
    "\n",
    "embeddings = OllamaEmbeddings(\n",
    "    model=\"mxbai-embed-large\",\n",
    ")"
   ]
  },
  {
   "cell_type": "code",
   "execution_count": 8,
   "metadata": {},
   "outputs": [
    {
     "name": "stdout",
     "output_type": "stream",
     "text": [
      "data/Planning for Care Costs _ Alzheimer's Association.html\n"
     ]
    }
   ],
   "source": [
    "import os\n",
    "\n",
    "files = os.listdir(\"data\")\n",
    "files = [os.path.join(\"data\", file) for file in files]\n",
    "\n",
    "print(files[0])"
   ]
  },
  {
   "cell_type": "code",
   "execution_count": 60,
   "metadata": {},
   "outputs": [
    {
     "name": "stderr",
     "output_type": "stream",
     "text": [
      "/var/folders/qk/rnr0wf6j3xj452rpryymzb200000gs/T/ipykernel_98857/796195323.py:8: XMLParsedAsHTMLWarning: It looks like you're parsing an XML document using an HTML parser. If this really is an HTML document (maybe it's XHTML?), you can ignore or filter this warning. If it's XML, you should know that using an XML parser will be more reliable. To parse this document as XML, make sure you have the lxml package installed, and pass the keyword argument `features=\"xml\"` into the BeautifulSoup constructor.\n",
      "  soup = BeautifulSoup(html, \"lxml\")\n",
      "/opt/anaconda3/lib/python3.9/html/parser.py:170: XMLParsedAsHTMLWarning: It looks like you're parsing an XML document using an HTML parser. If this really is an HTML document (maybe it's XHTML?), you can ignore or filter this warning. If it's XML, you should know that using an XML parser will be more reliable. To parse this document as XML, make sure you have the lxml package installed, and pass the keyword argument `features=\"xml\"` into the BeautifulSoup constructor.\n",
      "  k = self.parse_starttag(i)\n"
     ]
    }
   ],
   "source": [
    "from langchain_community.document_loaders import RecursiveUrlLoader\n",
    "\n",
    "# This example uses `beautifulsoup4` and `lxml`\n",
    "import re\n",
    "from bs4 import BeautifulSoup\n",
    "\n",
    "def bs4_extractor(html: str) -> str:\n",
    "    soup = BeautifulSoup(html, \"lxml\")\n",
    "    \n",
    "    # Remove unwanted tags\n",
    "    for tag in soup(['nav', 'footer', 'header', 'aside', 'script', 'style']):\n",
    "        tag.decompose()\n",
    "    \n",
    "    # Extract text\n",
    "    text = soup.get_text(separator=' ', strip=True)\n",
    "    \n",
    "    # Clean up whitespace\n",
    "    clean_text = re.sub(r'\\s+', ' ', text).strip()\n",
    "    \n",
    "    return clean_text\n",
    "\n",
    "loader = RecursiveUrlLoader(\"https://pottygenius.com/blogs/blog\",\n",
    "                            extractor=bs4_extractor)\n",
    "docs = loader.load()"
   ]
  },
  {
   "cell_type": "code",
   "execution_count": 66,
   "metadata": {},
   "outputs": [],
   "source": [
    "unwanted_terms = str.split(\"arrow-right cart chevron-down chevron-left chevron-right chevron-up close menu minus play plus search share user email pinterest facebook instagram snapchat tumblr twitter vimeo youtube subscribe dogecoin dwolla forbrugsforeningen litecoin amazon_payments american_express bitcoin cirrus discover fancy interac jcb master paypal stripe visa diners_club dankort maestro trash\",\" \")\n",
    "unwanted_terms.extend([\"tell your story\", \"free undies\",\"shop free undies!\"])\n",
    "for doc in docs:\n",
    "    content = doc.page_content.lower()\n",
    "    for term in unwanted_terms:\n",
    "        content = content.replace(term,\"\")\n",
    "    doc.page_content=content"
   ]
  },
  {
   "cell_type": "code",
   "execution_count": 67,
   "metadata": {},
   "outputs": [
    {
     "name": "stdout",
     "output_type": "stream",
     "text": [
      "30\n",
      "page_content='potty genius blog                                             potty genius blog  games  shop ! potty genius blog — potty training boys — potty training girls — potty training methods  —  stories games  shop get ready to train! get ready to train it all starts with changing the mindset. we can’t just tell children it's time to potty... by marshall mizrahi potty genius blog pull ups®? potty genius blog recognize your child's toilet training readiness potty genius blog eva shockey on potty training potty genius blog shannen michaela on elimination communication potty genius blog potty training a child with down syndrome potty genius blog potty training boys and girls potty training is challenging regardless of your toddler’s gender. that said, potty training boys is a bit different than potty training girls. while it is obvious that males and females use the bathroom differently, there are some other distinct potty training differences parents may run into when potty training boys versus girls. by brittany tacket, ma potty genius blog tips for potty training boys potty genius blog potty training boys as a mother potty genius blog what i wish i knew during potty training potty genius blog potty training children with autism potty genius blog it’s potty training time with potty genius! potty genius blog 5 potty training supplies you need if you’re a dad potty training your kid, then you’ve probably read a lot of literature about what products and supplies you’ll need. however, the best potty training toolbox is still incomplete because there are some things that no one ever told you to buy. these are the small items that do heavy lifting, and they range from making your kids feel more responsible to simply helping you get back to sleep quicker after your kid has an accident in the middle of the night. keep reading to  four potty training supplies no one warns you about! by dr. chris snellgrove potty genius blog why parents procrastinate when potty training potty genius blog cotton training pants... the key to potty training potty genius blog diaper free in the 21st century potty genius blog how to teach wiping… slow and easy potty genius blog effective strategies to prepare your child for toilet training 1 2 3 4 5 6 7 next shopping ' metadata={'source': 'https://pottygenius.com/blogs/blog', 'content_type': 'text/html; charset=utf-8', 'title': '\\n  Potty Genius Blog\\n  ', 'language': None}\n"
     ]
    }
   ],
   "source": [
    "print(len(docs))\n",
    "print(docs[0])\n"
   ]
  },
  {
   "cell_type": "code",
   "execution_count": 69,
   "metadata": {},
   "outputs": [
    {
     "name": "stdout",
     "output_type": "stream",
     "text": [
      "len(docs): 30, len(split_docs):109\n"
     ]
    }
   ],
   "source": [
    "from langchain.text_splitter import RecursiveCharacterTextSplitter\n",
    "text_splitter = RecursiveCharacterTextSplitter(\n",
    "    chunk_size=2000,       # Adjust based on your needs\n",
    "    chunk_overlap=200,     # Overlap to maintain context\n",
    ")\n",
    "split_docs = text_splitter.split_documents(docs)\n",
    "\n",
    "print(f\"len(docs): {len(docs)}, len(split_docs):{len(split_docs)}\")"
   ]
  },
  {
   "cell_type": "code",
   "execution_count": 71,
   "metadata": {},
   "outputs": [
    {
     "name": "stdout",
     "output_type": "stream",
     "text": [
      "page_content='potty genius blog                                             potty genius blog  games  shop ! potty genius blog — potty training boys — potty training girls — potty training methods  —  stories games  shop get ready to train! get ready to train it all starts with changing the mindset. we can’t just tell children it's time to potty... by marshall mizrahi potty genius blog pull ups®? potty genius blog recognize your child's toilet training readiness potty genius blog eva shockey on potty training potty genius blog shannen michaela on elimination communication potty genius blog potty training a child with down syndrome potty genius blog potty training boys and girls potty training is challenging regardless of your toddler’s gender. that said, potty training boys is a bit different than potty training girls. while it is obvious that males and females use the bathroom differently, there are some other distinct potty training differences parents may run into when potty training boys versus girls. by brittany tacket, ma potty genius blog tips for potty training boys potty genius blog potty training boys as a mother potty genius blog what i wish i knew during potty training potty genius blog potty training children with autism potty genius blog it’s potty training time with potty genius! potty genius blog 5 potty training supplies you need if you’re a dad potty training your kid, then you’ve probably read a lot of literature about what products and supplies you’ll need. however, the best potty training toolbox is still incomplete because there are some things that no one ever told you to buy. these are the small items that do heavy lifting, and they range from making your kids feel more responsible to simply helping you get back to sleep quicker after your kid has an accident in the middle of the night. keep reading to  four potty training supplies no one warns you about! by dr. chris snellgrove potty genius blog why parents procrastinate when potty training potty genius' metadata={'source': 'https://pottygenius.com/blogs/blog', 'content_type': 'text/html; charset=utf-8', 'title': '\\n  Potty Genius Blog\\n  ', 'language': None}\n",
      "page_content='in the middle of the night. keep reading to  four potty training supplies no one warns you about! by dr. chris snellgrove potty genius blog why parents procrastinate when potty training potty genius blog cotton training pants... the key to potty training potty genius blog diaper free in the 21st century potty genius blog how to teach wiping… slow and easy potty genius blog effective strategies to prepare your child for toilet training 1 2 3 4 5 6 7 next shopping' metadata={'source': 'https://pottygenius.com/blogs/blog', 'content_type': 'text/html; charset=utf-8', 'title': '\\n  Potty Genius Blog\\n  ', 'language': None}\n",
      "page_content='effective strategies to prepare your child for toilet training – potty genius                                             potty genius blog  games  shop ! potty genius blog — potty training boys — potty training girls — potty training methods  —  stories games  shop potty genius blog effective strategies to prepare your child for toilet training toilet training is an exciting milestone in your child’s development. you finally feel that it’s time to take the next step to eliminate their reliance on diapers. however, an eagerness to complete this giant accomplishment and a lack of understanding about the process can cause significant frustration for you and your child. you may have read and listened to many experts on the subject of toilet training to prepare yourself for the experience, but the preparation is incomplete if you don’t help your child get ready as well. your child will be a partner in this venture, and it is imperative that he or she is also adequately prepared. using effective strategies to equip your child will help you go through this milestone with fewer frustrations. by antoinette abban   #prepare toilet training is an exciting milestone in your child’s development. you finally feel that it’s time to take the next step to eliminate their reliance on diapers. however, an eagerness to complete this giant accomplishment and a lack of understanding about the process can cause significant frustration for you and your child. you may have read and listened to many experts on the subject of toilet training to prepare yourself for the experience, but the preparation is incomplete if you don’t help your child get ready as well. your child will be a partner in this venture, and it is imperative that he or she is also adequately prepared. using effective strategies to equip your child will help you go through this milestone with fewer frustrations. when is the right time? each child is unique, and there is no perfect age to start toilet training. the american' metadata={'source': 'https://pottygenius.com/blogs/blog/effective-strategies-to-prepare-your-child-for-toilet-training', 'content_type': 'text/html; charset=utf-8', 'title': '\\n  Effective Strategies to Prepare Your Child for Toilet Training – Potty Genius\\n  ', 'language': None}\n",
      "page_content='to equip your child will help you go through this milestone with fewer frustrations. when is the right time? each child is unique, and there is no perfect age to start toilet training. the american academy of pediatrics recommends starting toilet training at 18 months, but there is no need to be concerned about starting toilet training at a specific age. like other important milestones, children complete toilet training in their own time and at their own pace. starting toilet training when your child is ready is one of the most important strategies to ensure success. you need to pay attention to the readiness cues that your child provides to determine if the time is right to start toilet training. effective strategies to prepare your child for toilet training parents with a narrow window of opportunity may want to complete toilet training in the shortest possible amount of time, but an intensive or crash course in toilet training may sound daunting. however, psychological re has shown that most children can actually complete toilet training in fewer than 12 hours. intensive treatment is easier if your child enjoys the process, receives rewards for the right behavior, relaxes on the potty and has the physical ability to use the toilet. the key to success with intensive toilet training is preparing your child. the american academy of pediatricians recommends preparing your child with education, a potty seat, big kids’ clothes, flushing the toilet, and positive reinforcement. toilet training is a new activity for your child. according to the american academy of pediatricians , library books, personal demonstrations, and doing a potty dance to make using the toilet appealing are good strategies to educate your child and help them become acquainted with the unfamiliar activity. toilet training can also be intimidating because your child is not accustomed to the toilet bowl. you can make it appear less threatening by using a potty seat. a demonstration of how to use the' metadata={'source': 'https://pottygenius.com/blogs/blog/effective-strategies-to-prepare-your-child-for-toilet-training', 'content_type': 'text/html; charset=utf-8', 'title': '\\n  Effective Strategies to Prepare Your Child for Toilet Training – Potty Genius\\n  ', 'language': None}\n"
     ]
    }
   ],
   "source": [
    "for i in range(4): print(split_docs[i])"
   ]
  },
  {
   "cell_type": "code",
   "execution_count": 72,
   "metadata": {},
   "outputs": [],
   "source": [
    "from langchain_qdrant import QdrantVectorStore\n",
    "url=\"http://localhost:6333\"\n",
    "\n",
    "qdrant_vector_store = QdrantVectorStore.from_documents(\n",
    "    docs,\n",
    "    embeddings,\n",
    "    url=url,\n",
    "    prefer_grpc=True,\n",
    "    collection_name=\"PottyTraining\",\n",
    ")"
   ]
  },
  {
   "cell_type": "code",
   "execution_count": 73,
   "metadata": {},
   "outputs": [
    {
     "data": {
      "text/plain": [
       "[Document(metadata={'language': None, 'title': '\\n  Potty Training Boys and Girls – Potty Genius\\n  ', 'content_type': 'text/html; charset=utf-8', 'source': 'https://pottygenius.com/blogs/blog/potty-training-differences-in-boys-and-girls', '_id': '88a3095a-aaa3-4c82-a333-7883f091f1c2', '_collection_name': 'PottyTraining'}, page_content='potty training boys and girls – potty genius                                             potty genius blog  games  shop ! potty genius blog — potty training boys — potty training girls — potty training methods  —  stories games  shop potty genius blog potty training boys and girls potty training is challenging regardless of your toddler’s gender. that said, potty training boys is a bit different than potty training girls. while it is obvious that males and females use the bathroom differently, there are some other distinct potty training differences parents may run into when potty training boys versus girls. by brittany tacket, ma brittany tackett is a psychotherapist, life coach, mental health writer, and mommy to an infant daughter. she currently works part-time as a  therapist at a local elementary school and spends the rest of her time writing, parenting, and running an online collectibles shop. her approach to mental health is holistic and encompasses all aspects of the human experience. she is trained in a variety of modalities including cognitive behavioral therapy, mindfulness, applied behavioral analysis, art therapy, neurolinguistic programming, and positive psychology.   #boys #boys-home #potty training boys #tips #tips and trick #training boys potty training is challenging regardless of your toddler’s gender. that said, potty training boys is a bit different than potty training girls. while it is obvious that males and females use the bathroom differently, there are some other distinct potty training differences parents may run into when potty training boys versus girls. boys typically start later and take longer to train. in general, boys are thought to take longer to show interest in the potty and slower to  potty training. this claim has been backed up by scientific studies as well as public surveys. one recent poll of 1,229 mothers conducted by made for mums revealed that 56 percent of girls are daytime trained by age 2.5, compared to just 44 percent of boys. while people often claim that girls are potty trained sooner, it’s not always clear how much sooner. generally, it’s just a matter of a few months. that isn’t really a long time, but it may seem so to a diaper-buying parent. boys have to learn two different ways to go. another potty training difference—boys stand and girls sit. some parents may teach their sons to stand right away, but most boys will actually learn to go potty sitting down first. unlike girls, they must be taught how to position their penis to avoid making a mess. once they  sitting down, then they are taught to stand. since they have to learn twice, potty training boys typically takes a bit longer. most of the time, it is mom who is doing the training, and she may have trouble potty training her son to stand and aim. when dad or another adult male is in the picture, he may want to consider helping his son with potty training. potty training targets can be helpful in teaching aim, and they provide added incentive for the toddler. girls typically mature faster. this is not just a difference in potty training. girls typically mature faster than boys, both physiologically and intellectually. they generally have quicker language development and may be better able to understand potty lingo, which makes potty training girls easier. they are also quicker to learn to dress and undress themselves and control their elimination, which generally makes potty training a bit easier for them to . girls learn differently than boys. girls tend to be more eager to please than boys and may take to potty training faster in response to positive reinforcement. girls are more able to stay on task and focus on potty training, whereas toddler boys may be easily distracted and jump from activity to activity. boys and girls also have different motivations, making potty training different for each one. a girl may be apt to potty train by being asked to teach her doll to use the potty; boys may need a bit more motivation than that. boys respond well to tangible and related rewards. for example, boys may learn better when potty training is made into a game and they have an opportunity to win. or they may be quicker to take to the potty when they learn it means they can wear their super hero underwear . every child is unique. regardless of gender, potty training will be different for everyone. each child is unique and will learn to use the potty in his own time and in his own way. don’t get too caught up in gender roles. instead, focus on your child and how he or she personally responds to your training methods. do what works for you and your family. most importantly, be patient with your child. potty training is a process, it’s okay if it takes time. additional potty training resources: potty training boys vs. girls the difference between training boys and girls according to experts   #boys #boys-home #potty training boys #tips #tips and trick #training boys please enable javascript to view the comments powered by disqus. more potty genius blog tips for potty training boys potty training boys as a mother cotton training pants... the key to potty training how to teach wiping… slow and easy shopping '),\n",
       " Document(metadata={'language': None, 'title': '\\n  Potty Genius Blog – Tagged Girls\\n  ', 'content_type': 'text/html; charset=utf-8', 'source': 'https://pottygenius.com/blogs/blog/tagged/girls', '_id': '4a024a57-6633-4358-b1a0-4c458ffd9967', '_collection_name': 'PottyTraining'}, page_content=\"potty genius blog – tagged girls                                             potty genius blog  games  shop ! potty genius blog — potty training boys — potty training girls — potty training methods  —  stories games  shop how to teach wiping… slow and easy wiping can be a scary and unpleasant thing for young children and i see many of my young students who... by marilynn myers potty genius blog the guy's guide to potty training girls shopping \"),\n",
       " Document(metadata={'language': None, 'title': '\\n  Potty Genius Blog – Tagged Boys\\n  ', 'content_type': 'text/html; charset=utf-8', 'source': 'https://pottygenius.com/blogs/blog/tagged/boys', '_id': 'f1dc4329-1f1d-4396-ac83-b23777b9ed32', '_collection_name': 'PottyTraining'}, page_content=\"Potty Genius Blog – Tagged Boys arrow-right cart chevron-down chevron-left chevron-right chevron-up close menu minus play plus search share user email pinterest facebook instagram snapchat tumblr twitter vimeo youtube subscribe dogecoin dwolla forbrugsforeningen litecoin amazon_payments american_express bitcoin cirrus discover fancy interac jcb master paypal stripe visa diners_club dankort maestro trash Potty Genius Blog Tell Your Story Games Free Undies Shop Free Undies! Potty Genius Blog — Potty Training Boys — Potty Training Girls — Potty Training Methods Tell Your Story — User Stories Games Free Undies Shop Potty Training Boys and Girls Potty training is challenging regardless of your toddler’s gender. That said, potty training boys is a bit different than potty training girls. While it is obvious that males and females use the bathroom differently, there are some other distinct potty training differences parents may run into when potty training boys versus girls. by Brittany Tacket, MA Potty Genius Blog Tips for Potty Training Boys Potty Genius Blog Potty Training Boys as a Mother Potty Genius Blog How to Teach Wiping… Slow and Easy Potty Genius Blog When Your Child Doesn't Want To Potty Train Potty Genius Blog How to Teach Boys to Pee Standing Up Shopping Cart\"),\n",
       " Document(metadata={'language': None, 'title': '\\n  Potty Genius Blog\\n  ', 'content_type': 'text/html; charset=utf-8', 'source': 'https://pottygenius.com/blogs/blog?page=1', '_id': '58ab7910-473e-4884-bd33-5fc98fb2ff61', '_collection_name': 'PottyTraining'}, page_content=\"Potty Genius Blog arrow-right cart chevron-down chevron-left chevron-right chevron-up close menu minus play plus search share user email pinterest facebook instagram snapchat tumblr twitter vimeo youtube subscribe dogecoin dwolla forbrugsforeningen litecoin amazon_payments american_express bitcoin cirrus discover fancy interac jcb master paypal stripe visa diners_club dankort maestro trash Potty Genius Blog Tell Your Story Games Free Undies Shop Free Undies! Potty Genius Blog — Potty Training Boys — Potty Training Girls — Potty Training Methods Tell Your Story — User Stories Games Free Undies Shop Get Ready to Train! Get ready to Train It all starts with changing the mindset. We can’t just tell children it's time to potty... by marshall mizrahi Potty Genius Blog Pull Ups®? Potty Genius Blog Recognize your Child's Toilet Training Readiness Potty Genius Blog Eva Shockey on Potty Training Potty Genius Blog Shannen Michaela on Elimination Communication Potty Genius Blog Potty Training A Child with Down Syndrome Potty Genius Blog Potty Training Boys and Girls Potty training is challenging regardless of your toddler’s gender. That said, potty training boys is a bit different than potty training girls. While it is obvious that males and females use the bathroom differently, there are some other distinct potty training differences parents may run into when potty training boys versus girls. by Brittany Tacket, MA Potty Genius Blog Tips for Potty Training Boys Potty Genius Blog Potty Training Boys as a Mother Potty Genius Blog What I Wish I Knew During Potty Training Potty Genius Blog Potty Training Children with Autism Potty Genius Blog IT’S POTTY TRAINING TIME WITH POTTY GENIUS! Potty Genius Blog 5 Potty Training Supplies You Need If you’re a dad potty training your kid, then you’ve probably read a lot of literature about what products and supplies you’ll need. However, the best potty training toolbox is still incomplete because there are some things that no one ever told you to buy. These are the small items that do heavy lifting, and they range from making your kids feel more responsible to simply helping you get back to sleep quicker after your kid has an accident in the middle of the night. Keep reading to discover four potty training supplies no one warns you about! by Dr. Chris Snellgrove Potty Genius Blog Why Parents Procrastinate When Potty Training Potty Genius Blog Cotton Training Pants... The Key to Potty Training Potty Genius Blog Diaper Free in the 21st Century Potty Genius Blog How to Teach Wiping… Slow and Easy Potty Genius Blog Effective Strategies to Prepare Your Child for Toilet Training 1 2 3 4 5 6 7 Next Shopping Cart\"),\n",
       " Document(metadata={'language': None, 'title': '\\n  Potty Training Boys as a Mother – Potty Genius\\n  ', 'content_type': 'text/html; charset=utf-8', 'source': 'https://pottygenius.com/blogs/blog/the-joy-of-potty-training-boys', '_id': '3dd42235-0520-4149-8eef-9eaa9425c5ad', '_collection_name': 'PottyTraining'}, page_content='Potty Training Boys as a Mother – Potty Genius arrow-right cart chevron-down chevron-left chevron-right chevron-up close menu minus play plus search share user email pinterest facebook instagram snapchat tumblr twitter vimeo youtube subscribe dogecoin dwolla forbrugsforeningen litecoin amazon_payments american_express bitcoin cirrus discover fancy interac jcb master paypal stripe visa diners_club dankort maestro trash Potty Genius Blog Tell Your Story Games Free Undies Shop Free Undies! Potty Genius Blog — Potty Training Boys — Potty Training Girls — Potty Training Methods Tell Your Story — User Stories Games Free Undies Shop Potty Genius Blog Potty Training Boys as a Mother by Catherine Cheshire Catherine Cheshire is a busy working mother of four with over 20 years experience in consumer health products and a massive amount of both research and “hands-on” experience in potty training. Share Share #Boys #Boys-Home #Potty Training Boys #tips As a single mom when my youngest son was ready to potty train, I wasn’t prepared for the difference in training his older sisters. Now, years later as I work with parents training children of all shapes, sizes and genders it’s important to stress the difference. At the very least boys have additional steps in the overall potty training process. Failing to follow these steps in a specific order can lead to little boys peeing on your sister’s shoes at your engagement party (true story). It’s often advised for dads or another trusted men to allow little boys to follow their example. But what do you do when you’re a single mom? The first step in potty training is the same for boys and girls. Everyone should start training by sitting down! The “sit-training” part allows for confidence, stability and better aim. Until a little boy can do that step comfortably and consistently, they shouldn’t move on to standing. In addition, whether they are using the potty or toilet or anywhere else it is important they can comfortably reach the toilet and have good balance wherever they are going. Once you move on to stand-training it can be helpful to give little boys targets they can see clearly. Cereals that float are often used by parents and there are products that use projected lights and all sorts of fun variations available now. Often you hear that boys are harder train, that was not my experience, but every child is different. My advice: start to observe the signs at 18 months. Make sure you’re comfortable setting the example for your little man, choose the process you want to use and make it an adventure! Share Share #Boys #Boys-Home #Potty Training Boys #tips Please enable JavaScript to view the comments powered by Disqus. More Potty Genius Blog Potty Training Boys and Girls Tips for Potty Training Boys Cotton Training Pants... The Key to Potty Training How to Teach Wiping… Slow and Easy Shopping Cart')]"
      ]
     },
     "execution_count": 73,
     "metadata": {},
     "output_type": "execute_result"
    }
   ],
   "source": [
    "retriever = qdrant_vector_store.as_retriever(\n",
    "    search_type=\"mmr\",  # Options: 'similarity', 'mmr', etc.\n",
    "    search_kwargs={\"k\": 5}     # Number of documents to retrieve\n",
    ")\n",
    "retriever.invoke(\"How is potty training boys different from potty training girls\")"
   ]
  },
  {
   "cell_type": "code",
   "execution_count": 80,
   "metadata": {},
   "outputs": [],
   "source": [
    "from operator import itemgetter\n",
    "from langchain_core.runnables import RunnablePassthrough\n",
    "\n",
    "rag_chain = (\n",
    "    {\"context\": itemgetter(\"query\") | retriever, \"query\": itemgetter(\"query\")} \n",
    "    | RunnablePassthrough.assign(context=itemgetter(\"context\"))\n",
    "    | {\"response\": rag_prompt | llm}\n",
    ")"
   ]
  },
  {
   "cell_type": "code",
   "execution_count": 84,
   "metadata": {},
   "outputs": [
    {
     "name": "stdout",
     "output_type": "stream",
     "text": [
      "{'response': 'Using candy to help potty train your child is a common practice, '\n",
      "             \"but it's not necessarily the most effective or recommended \"\n",
      "             'approach. Here are some things to consider:\\n'\n",
      "             '\\n'\n",
      "             '**Why candy might work:**\\n'\n",
      "             '\\n'\n",
      "             '1. **Temporary association**: Candy can associate the act of '\n",
      "             'using the bathroom with something pleasant, like food.\\n'\n",
      "             '2. **Immediate satisfaction**: Receiving a treat can provide '\n",
      "             'temporary relief and motivation for your child to use the '\n",
      "             'potty.\\n'\n",
      "             '\\n'\n",
      "             '**However, there are also some potential drawbacks:**\\n'\n",
      "             '\\n'\n",
      "             '1. **Unintended consequences**: Over-reliance on candy might '\n",
      "             'lead to dependence on treats as a means of getting your child to '\n",
      "             'go pee or poo.\\n'\n",
      "             \"2. **Lack of long-term habit formation**: Candy doesn't teach \"\n",
      "             'your child how to associate the act of using the bathroom with '\n",
      "             'regular, healthy habits.\\n'\n",
      "             '3. **Potential for overindulgence**: Excessive candy consumption '\n",
      "             'can lead to weight gain and other health issues.\\n'\n",
      "             '\\n'\n",
      "             '**Alternative approaches:**\\n'\n",
      "             '\\n'\n",
      "             '1. **Establish a routine**: Encourage your child to use the '\n",
      "             'potty at consistent intervals (e.g., after waking up, after '\n",
      "             'meals, or before bedtime).\\n'\n",
      "             '2. **Make it fun**: Sing songs, read books, or play games while '\n",
      "             'on the potty to create a positive association.\\n'\n",
      "             '3. **Gradually phase out candy**: As your child becomes more '\n",
      "             'comfortable with using the potty, you can reduce or eliminate '\n",
      "             'candy rewards.\\n'\n",
      "             '\\n'\n",
      "             '**When to use candy:**\\n'\n",
      "             '\\n'\n",
      "             'If you do choose to use candy as a reward, consider these tips:\\n'\n",
      "             '\\n'\n",
      "             '1. **Use small, healthy treats**: Opt for something like dried '\n",
      "             'fruit, carrot sticks with hummus, or small pieces of fruit '\n",
      "             'leather.\\n'\n",
      "             '2. **Set boundaries**: Make sure your child understands that '\n",
      "             'candy is only used as a reward and not a regular part of the '\n",
      "             'potty training process.\\n'\n",
      "             \"3. **Don't overdo it**: Limit candy rewards to occasional \"\n",
      "             'occasions, rather than using them daily.\\n'\n",
      "             '\\n'\n",
      "             'Ultimately, every child is different, and what works for one '\n",
      "             \"family may not work for another. If you're unsure about the \"\n",
      "             'effectiveness of candy as a potty training tool, consult with '\n",
      "             'your pediatrician or a qualified healthcare professional for '\n",
      "             'personalized guidance.'}\n"
     ]
    }
   ],
   "source": [
    "from pprint import pprint\n",
    "answer = rag_chain.invoke(input={'query':\"Should I use candy to help potty train my child?\"})\n",
    "pprint(answer)"
   ]
  }
 ],
 "metadata": {
  "kernelspec": {
   "display_name": "local_rag",
   "language": "python",
   "name": "python3"
  },
  "language_info": {
   "codemirror_mode": {
    "name": "ipython",
    "version": 3
   },
   "file_extension": ".py",
   "mimetype": "text/x-python",
   "name": "python",
   "nbconvert_exporter": "python",
   "pygments_lexer": "ipython3",
   "version": "3.9.12"
  }
 },
 "nbformat": 4,
 "nbformat_minor": 2
}
