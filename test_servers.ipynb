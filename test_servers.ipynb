{
 "cells": [
  {
   "cell_type": "markdown",
   "metadata": {},
   "source": [
    "Make sure to do all the stuff in the README first!\n",
    "\n",
    "Set up the LLM and test it out."
   ]
  },
  {
   "cell_type": "code",
   "execution_count": 2,
   "metadata": {},
   "outputs": [
    {
     "data": {
      "text/plain": [
       "{'model': 'llama3.2:1b',\n",
       " 'created_at': '2024-10-14T15:00:54.045715Z',\n",
       " 'message': {'role': 'assistant',\n",
       "  'content': \"Leaves changing colors in the fall is a natural process that's driven by the changing seasons and environmental factors. Here's why it happens:\\n\\n1. **Daylight shortens**: As the days get shorter, trees prepare for winter by slowing down their food-making process. This means they produce less chlorophyll, the green pigment that helps them absorb sunlight.\\n2. **Chlorophyll breaks down**: As daylight hours shorten, the amount of chlorophyll in leaves starts to break down. This allows other pigments in the leaf to become visible, which is why we see a range of colors during fall.\\n3. **Carotenoids and anthocyanins shine through**: The breakdown of chlorophyll exposes the underlying carotenoids (yellow, orange, and brown pigments) and anthocyanins (red, purple, and blue pigments). These pigments are always present in leaves, but become more visible during fall.\\n4. **Temperature and humidity**: Changes in temperature and humidity can also affect leaf color. For example, cooler temperatures slow down the breakdown of chlorophyll, while warmer temperatures speed it up.\\n\\nThe specific combination and amount of these pigments determine the characteristic colors we see:\\n\\n* Carotenoids are always present, but often masked by chlorophyll.\\n* Anthocyanins become more visible in red, purple, or blue shades.\\n* The exact shade of color depends on the type and concentration of these pigments.\\n\\nSome trees, like maples and oaks, have a greater concentration of anthocyanins, which can produce deep red or purple colors. Others, like birches and beeches, may have more carotenoids, leading to yellow or orange hues.\\n\\nOverall, the combination of daylight shortening, chlorophyll breakdown, and pigment exposure creates the stunning fall foliage display we enjoy each year!\"},\n",
       " 'done_reason': 'stop',\n",
       " 'done': True,\n",
       " 'total_duration': 9188485208,\n",
       " 'load_duration': 2338192333,\n",
       " 'prompt_eval_count': 33,\n",
       " 'prompt_eval_duration': 84340000,\n",
       " 'eval_count': 378,\n",
       " 'eval_duration': 6763392000}"
      ]
     },
     "execution_count": 2,
     "metadata": {},
     "output_type": "execute_result"
    }
   ],
   "source": [
    "import ollama\n",
    "\n",
    "model = \"llama3.2:1b\"\n",
    "message_content = 'why do leaves change in the fall?'\n",
    "message = {'role': 'user', 'content': message_content}\n",
    "\n",
    "# Try to call ollama directly - this assumes Ollama is already installed, along with the target model\n",
    "ollama.chat(model=model,messages=[message])"
   ]
  },
  {
   "cell_type": "code",
   "execution_count": 3,
   "metadata": {},
   "outputs": [],
   "source": [
    "from langchain_ollama.llms import OllamaLLM\n",
    "llm = OllamaLLM(model=model)"
   ]
  },
  {
   "cell_type": "code",
   "execution_count": 4,
   "metadata": {},
   "outputs": [],
   "source": [
    "from langchain_core.prompts import PromptTemplate\n",
    "\n",
    "RAG_PROMPT_TEMPLATE = \"\"\"\\\n",
    "<|start_header_id|>system<|end_header_id|>\n",
    "You are a helpful potty training assistant. You answer user questions based on context. If you can't answer the question with the context, say you don't know.\n",
    "Context:\n",
    "{context}\n",
    "<|eot_id|>\n",
    "\n",
    "<|start_header_id|>user<|end_header_id|>\n",
    "User Question:\n",
    "{query}\n",
    "<|eot_id|>\n",
    "\n",
    "<|start_header_id|>assistant<|end_header_id|>\n",
    "\"\"\"\n",
    "\n",
    "rag_prompt = PromptTemplate.from_template(RAG_PROMPT_TEMPLATE)"
   ]
  },
  {
   "cell_type": "code",
   "execution_count": 5,
   "metadata": {},
   "outputs": [],
   "source": [
    "rag_chain = rag_prompt | llm"
   ]
  },
  {
   "cell_type": "code",
   "execution_count": 6,
   "metadata": {},
   "outputs": [
    {
     "data": {
      "text/plain": [
       "'Carl is 40 years old.'"
      ]
     },
     "execution_count": 6,
     "metadata": {},
     "output_type": "execute_result"
    }
   ],
   "source": [
    "rag_chain.invoke({\"query\" : \"How old is Carl?\", \"context\" : \"Carl is a sweet dude, he's 40.\"})"
   ]
  },
  {
   "cell_type": "markdown",
   "metadata": {},
   "source": [
    "Set up the embeddings, pull down some test data, and test out the retriever"
   ]
  },
  {
   "cell_type": "code",
   "execution_count": 9,
   "metadata": {},
   "outputs": [],
   "source": [
    "from langchain_ollama import OllamaEmbeddings\n",
    "\n",
    "embeddings = OllamaEmbeddings(\n",
    "    model=\"mxbai-embed-large\",\n",
    ")"
   ]
  },
  {
   "cell_type": "code",
   "execution_count": 10,
   "metadata": {},
   "outputs": [
    {
     "name": "stderr",
     "output_type": "stream",
     "text": [
      "/var/folders/qk/rnr0wf6j3xj452rpryymzb200000gs/T/ipykernel_22445/796195323.py:8: XMLParsedAsHTMLWarning: It looks like you're parsing an XML document using an HTML parser. If this really is an HTML document (maybe it's XHTML?), you can ignore or filter this warning. If it's XML, you should know that using an XML parser will be more reliable. To parse this document as XML, make sure you have the lxml package installed, and pass the keyword argument `features=\"xml\"` into the BeautifulSoup constructor.\n",
      "  soup = BeautifulSoup(html, \"lxml\")\n"
     ]
    }
   ],
   "source": [
    "from langchain_community.document_loaders import RecursiveUrlLoader\n",
    "\n",
    "# This example uses `beautifulsoup4` and `lxml`\n",
    "import re\n",
    "from bs4 import BeautifulSoup\n",
    "\n",
    "def bs4_extractor(html: str) -> str:\n",
    "    soup = BeautifulSoup(html, \"lxml\")\n",
    "    \n",
    "    # Remove unwanted tags\n",
    "    for tag in soup(['nav', 'footer', 'header', 'aside', 'script', 'style']):\n",
    "        tag.decompose()\n",
    "    \n",
    "    # Extract text\n",
    "    text = soup.get_text(separator=' ', strip=True)\n",
    "    \n",
    "    # Clean up whitespace\n",
    "    clean_text = re.sub(r'\\s+', ' ', text).strip()\n",
    "    \n",
    "    return clean_text\n",
    "\n",
    "loader = RecursiveUrlLoader(\"https://pottygenius.com/blogs/blog\",\n",
    "                            extractor=bs4_extractor)\n",
    "docs = loader.load()"
   ]
  },
  {
   "cell_type": "code",
   "execution_count": 11,
   "metadata": {},
   "outputs": [],
   "source": [
    "# A bit of cleanup\n",
    "unwanted_terms = str.split(\"arrow-right cart chevron-down chevron-left chevron-right chevron-up close menu minus play plus search share user email pinterest facebook instagram snapchat tumblr twitter vimeo youtube subscribe dogecoin dwolla forbrugsforeningen litecoin amazon_payments american_express bitcoin cirrus discover fancy interac jcb master paypal stripe visa diners_club dankort maestro trash\",\" \")\n",
    "unwanted_terms.extend([\"tell your story\", \"free undies\",\"shop free undies!\"])\n",
    "for doc in docs:\n",
    "    content = doc.page_content.lower()\n",
    "    for term in unwanted_terms:\n",
    "        content = content.replace(term,\"\")\n",
    "    doc.page_content=content"
   ]
  },
  {
   "cell_type": "code",
   "execution_count": 12,
   "metadata": {},
   "outputs": [
    {
     "name": "stdout",
     "output_type": "stream",
     "text": [
      "30\n",
      "page_content='potty genius blog                                             potty genius blog  games  shop ! potty genius blog — potty training boys — potty training girls — potty training methods  —  stories games  shop get ready to train! get ready to train it all starts with changing the mindset. we can’t just tell children it's time to potty... by marshall mizrahi potty genius blog pull ups®? potty genius blog recognize your child's toilet training readiness potty genius blog eva shockey on potty training potty genius blog shannen michaela on elimination communication potty genius blog potty training a child with down syndrome potty genius blog potty training boys and girls potty training is challenging regardless of your toddler’s gender. that said, potty training boys is a bit different than potty training girls. while it is obvious that males and females use the bathroom differently, there are some other distinct potty training differences parents may run into when potty training boys versus girls. by brittany tacket, ma potty genius blog tips for potty training boys potty genius blog potty training boys as a mother potty genius blog what i wish i knew during potty training potty genius blog potty training children with autism potty genius blog it’s potty training time with potty genius! potty genius blog 5 potty training supplies you need if you’re a dad potty training your kid, then you’ve probably read a lot of literature about what products and supplies you’ll need. however, the best potty training toolbox is still incomplete because there are some things that no one ever told you to buy. these are the small items that do heavy lifting, and they range from making your kids feel more responsible to simply helping you get back to sleep quicker after your kid has an accident in the middle of the night. keep reading to  four potty training supplies no one warns you about! by dr. chris snellgrove potty genius blog why parents procrastinate when potty training potty genius blog cotton training pants... the key to potty training potty genius blog diaper free in the 21st century potty genius blog how to teach wiping… slow and easy potty genius blog effective strategies to prepare your child for toilet training 1 2 3 4 5 6 7 next shopping ' metadata={'source': 'https://pottygenius.com/blogs/blog', 'content_type': 'text/html; charset=utf-8', 'title': '\\n  Potty Genius Blog\\n  ', 'language': None}\n"
     ]
    }
   ],
   "source": [
    "print(len(docs))\n",
    "print(docs[0])\n"
   ]
  },
  {
   "cell_type": "code",
   "execution_count": 13,
   "metadata": {},
   "outputs": [
    {
     "name": "stdout",
     "output_type": "stream",
     "text": [
      "len(docs): 30, len(split_docs):109\n"
     ]
    }
   ],
   "source": [
    "from langchain.text_splitter import RecursiveCharacterTextSplitter\n",
    "text_splitter = RecursiveCharacterTextSplitter(\n",
    "    chunk_size=2000,       # Adjust based on your needs\n",
    "    chunk_overlap=200,     # Overlap to maintain context\n",
    ")\n",
    "split_docs = text_splitter.split_documents(docs)\n",
    "\n",
    "print(f\"len(docs): {len(docs)}, len(split_docs):{len(split_docs)}\")"
   ]
  },
  {
   "cell_type": "code",
   "execution_count": 14,
   "metadata": {},
   "outputs": [
    {
     "name": "stdout",
     "output_type": "stream",
     "text": [
      "page_content='potty genius blog                                             potty genius blog  games  shop ! potty genius blog — potty training boys — potty training girls — potty training methods  —  stories games  shop get ready to train! get ready to train it all starts with changing the mindset. we can’t just tell children it's time to potty... by marshall mizrahi potty genius blog pull ups®? potty genius blog recognize your child's toilet training readiness potty genius blog eva shockey on potty training potty genius blog shannen michaela on elimination communication potty genius blog potty training a child with down syndrome potty genius blog potty training boys and girls potty training is challenging regardless of your toddler’s gender. that said, potty training boys is a bit different than potty training girls. while it is obvious that males and females use the bathroom differently, there are some other distinct potty training differences parents may run into when potty training boys versus girls. by brittany tacket, ma potty genius blog tips for potty training boys potty genius blog potty training boys as a mother potty genius blog what i wish i knew during potty training potty genius blog potty training children with autism potty genius blog it’s potty training time with potty genius! potty genius blog 5 potty training supplies you need if you’re a dad potty training your kid, then you’ve probably read a lot of literature about what products and supplies you’ll need. however, the best potty training toolbox is still incomplete because there are some things that no one ever told you to buy. these are the small items that do heavy lifting, and they range from making your kids feel more responsible to simply helping you get back to sleep quicker after your kid has an accident in the middle of the night. keep reading to  four potty training supplies no one warns you about! by dr. chris snellgrove potty genius blog why parents procrastinate when potty training potty genius' metadata={'source': 'https://pottygenius.com/blogs/blog', 'content_type': 'text/html; charset=utf-8', 'title': '\\n  Potty Genius Blog\\n  ', 'language': None}\n",
      "page_content='in the middle of the night. keep reading to  four potty training supplies no one warns you about! by dr. chris snellgrove potty genius blog why parents procrastinate when potty training potty genius blog cotton training pants... the key to potty training potty genius blog diaper free in the 21st century potty genius blog how to teach wiping… slow and easy potty genius blog effective strategies to prepare your child for toilet training 1 2 3 4 5 6 7 next shopping' metadata={'source': 'https://pottygenius.com/blogs/blog', 'content_type': 'text/html; charset=utf-8', 'title': '\\n  Potty Genius Blog\\n  ', 'language': None}\n",
      "page_content='potty genius blog – page 7                                             potty genius blog  games  shop ! potty genius blog — potty training boys — potty training girls — potty training methods  —  stories games  shop potty training tips: d potty training we’ve all heard the phrase “it takes a village to raise a child.” the same applies to potty training, which often involves more people than just the primary caregiver. for most modern american children, their potty training comes from more than just their mothers. many children are cared for by fathers, grandparents, nannies, babysitters, daycare centers, and other care providers. the most important potty training tip is that all caregivers are on the same page. the key to successful potty training is consistency. if toddlers are offered the opportunity to use the potty at home but use diapers the entire day at daycare, they may have difficulty toilet training and take longer to learn. when it comes to potty training, it is important to  your potty training plan with everyone involved in your child’s care. by brittany tacket, ma potty genius blog potty training schedule: how long should it take? potty genius blog the cost of diapers isn’t cheap potty genius blog toilet training around the world potty genius blog the abcs of potty training potty genius blog 5 potty training books for potty time potty genius blog is your child scared of bathrooms? since most of our memories don’t take us back to the toddler years, imagine for a moment being a 2-year-old.... by angie long potty genius blog bed wetting during nighttime potty training potty genius blog “toilet training in less than a day”: azrin and foxx method potty genius blog 8 potty training books for your toddler potty genius blog are you ready for potty training? potty genius blog brazelton toilet training potty genius blog how to respond to potty training accidents children are amazingly adaptable. they learn so much within the first few years of their lives that' metadata={'source': 'https://pottygenius.com/blogs/blog?page=7', 'content_type': 'text/html; charset=utf-8', 'title': '\\n  Potty Genius Blog – Page 7\\n  ', 'language': None}\n",
      "page_content='genius blog brazelton toilet training potty genius blog how to respond to potty training accidents children are amazingly adaptable. they learn so much within the first few years of their lives that they inadvertently set... by angie long potty genius blog 4 surprising ways to save money on potty training supplies previous 1 2 3 4 5 6 7 shopping' metadata={'source': 'https://pottygenius.com/blogs/blog?page=7', 'content_type': 'text/html; charset=utf-8', 'title': '\\n  Potty Genius Blog – Page 7\\n  ', 'language': None}\n"
     ]
    }
   ],
   "source": [
    "for i in range(4): print(split_docs[i])"
   ]
  },
  {
   "cell_type": "code",
   "execution_count": 15,
   "metadata": {},
   "outputs": [],
   "source": [
    "# create the vector store\n",
    "from langchain_qdrant import QdrantVectorStore\n",
    "url=\"http://localhost:6333\"\n",
    "\n",
    "qdrant = QdrantVectorStore.from_documents(\n",
    "    docs,\n",
    "    embeddings,\n",
    "    url=url,\n",
    "    prefer_grpc=True,\n",
    "    collection_name=\"PottyTraining\",\n",
    ")"
   ]
  },
  {
   "cell_type": "code",
   "execution_count": 17,
   "metadata": {},
   "outputs": [],
   "source": [
    "# make sure we can load it\n",
    "qdrant_vector_store = QdrantVectorStore.from_existing_collection(\n",
    "    embedding=embeddings,\n",
    "    collection_name=\"PottyTraining\",\n",
    "    url=url\n",
    ")"
   ]
  },
  {
   "cell_type": "code",
   "execution_count": 19,
   "metadata": {},
   "outputs": [
    {
     "data": {
      "text/plain": [
       "[Document(metadata={'title': '\\n  Potty Training Boys and Girls – Potty Genius\\n  ', 'language': None, 'content_type': 'text/html; charset=utf-8', 'source': 'https://pottygenius.com/blogs/blog/potty-training-differences-in-boys-and-girls', '_id': '88a3095a-aaa3-4c82-a333-7883f091f1c2', '_collection_name': 'PottyTraining'}, page_content='potty training boys and girls – potty genius                                             potty genius blog  games  shop ! potty genius blog — potty training boys — potty training girls — potty training methods  —  stories games  shop potty genius blog potty training boys and girls potty training is challenging regardless of your toddler’s gender. that said, potty training boys is a bit different than potty training girls. while it is obvious that males and females use the bathroom differently, there are some other distinct potty training differences parents may run into when potty training boys versus girls. by brittany tacket, ma brittany tackett is a psychotherapist, life coach, mental health writer, and mommy to an infant daughter. she currently works part-time as a  therapist at a local elementary school and spends the rest of her time writing, parenting, and running an online collectibles shop. her approach to mental health is holistic and encompasses all aspects of the human experience. she is trained in a variety of modalities including cognitive behavioral therapy, mindfulness, applied behavioral analysis, art therapy, neurolinguistic programming, and positive psychology.   #boys #boys-home #potty training boys #tips #tips and trick #training boys potty training is challenging regardless of your toddler’s gender. that said, potty training boys is a bit different than potty training girls. while it is obvious that males and females use the bathroom differently, there are some other distinct potty training differences parents may run into when potty training boys versus girls. boys typically start later and take longer to train. in general, boys are thought to take longer to show interest in the potty and slower to  potty training. this claim has been backed up by scientific studies as well as public surveys. one recent poll of 1,229 mothers conducted by made for mums revealed that 56 percent of girls are daytime trained by age 2.5, compared to just 44 percent of boys. while people often claim that girls are potty trained sooner, it’s not always clear how much sooner. generally, it’s just a matter of a few months. that isn’t really a long time, but it may seem so to a diaper-buying parent. boys have to learn two different ways to go. another potty training difference—boys stand and girls sit. some parents may teach their sons to stand right away, but most boys will actually learn to go potty sitting down first. unlike girls, they must be taught how to position their penis to avoid making a mess. once they  sitting down, then they are taught to stand. since they have to learn twice, potty training boys typically takes a bit longer. most of the time, it is mom who is doing the training, and she may have trouble potty training her son to stand and aim. when dad or another adult male is in the picture, he may want to consider helping his son with potty training. potty training targets can be helpful in teaching aim, and they provide added incentive for the toddler. girls typically mature faster. this is not just a difference in potty training. girls typically mature faster than boys, both physiologically and intellectually. they generally have quicker language development and may be better able to understand potty lingo, which makes potty training girls easier. they are also quicker to learn to dress and undress themselves and control their elimination, which generally makes potty training a bit easier for them to . girls learn differently than boys. girls tend to be more eager to please than boys and may take to potty training faster in response to positive reinforcement. girls are more able to stay on task and focus on potty training, whereas toddler boys may be easily distracted and jump from activity to activity. boys and girls also have different motivations, making potty training different for each one. a girl may be apt to potty train by being asked to teach her doll to use the potty; boys may need a bit more motivation than that. boys respond well to tangible and related rewards. for example, boys may learn better when potty training is made into a game and they have an opportunity to win. or they may be quicker to take to the potty when they learn it means they can wear their super hero underwear . every child is unique. regardless of gender, potty training will be different for everyone. each child is unique and will learn to use the potty in his own time and in his own way. don’t get too caught up in gender roles. instead, focus on your child and how he or she personally responds to your training methods. do what works for you and your family. most importantly, be patient with your child. potty training is a process, it’s okay if it takes time. additional potty training resources: potty training boys vs. girls the difference between training boys and girls according to experts   #boys #boys-home #potty training boys #tips #tips and trick #training boys please enable javascript to view the comments powered by disqus. more potty genius blog tips for potty training boys potty training boys as a mother cotton training pants... the key to potty training how to teach wiping… slow and easy shopping '),\n",
       " Document(metadata={'content_type': 'text/html; charset=utf-8', 'language': None, 'source': 'https://pottygenius.com/blogs/blog/tagged/boys', 'title': '\\n  Potty Genius Blog – Tagged Boys\\n  ', '_id': 'f1dc4329-1f1d-4396-ac83-b23777b9ed32', '_collection_name': 'PottyTraining'}, page_content=\"Potty Genius Blog – Tagged Boys arrow-right cart chevron-down chevron-left chevron-right chevron-up close menu minus play plus search share user email pinterest facebook instagram snapchat tumblr twitter vimeo youtube subscribe dogecoin dwolla forbrugsforeningen litecoin amazon_payments american_express bitcoin cirrus discover fancy interac jcb master paypal stripe visa diners_club dankort maestro trash Potty Genius Blog Tell Your Story Games Free Undies Shop Free Undies! Potty Genius Blog — Potty Training Boys — Potty Training Girls — Potty Training Methods Tell Your Story — User Stories Games Free Undies Shop Potty Training Boys and Girls Potty training is challenging regardless of your toddler’s gender. That said, potty training boys is a bit different than potty training girls. While it is obvious that males and females use the bathroom differently, there are some other distinct potty training differences parents may run into when potty training boys versus girls. by Brittany Tacket, MA Potty Genius Blog Tips for Potty Training Boys Potty Genius Blog Potty Training Boys as a Mother Potty Genius Blog How to Teach Wiping… Slow and Easy Potty Genius Blog When Your Child Doesn't Want To Potty Train Potty Genius Blog How to Teach Boys to Pee Standing Up Shopping Cart\"),\n",
       " Document(metadata={'title': '\\n  Potty Genius Blog\\n  ', 'language': None, 'content_type': 'text/html; charset=utf-8', 'source': 'https://pottygenius.com/blogs/blog', '_id': '8e61fdec-154c-4fca-90a2-e0973771efeb', '_collection_name': 'PottyTraining'}, page_content=\"Potty Genius Blog arrow-right cart chevron-down chevron-left chevron-right chevron-up close menu minus play plus search share user email pinterest facebook instagram snapchat tumblr twitter vimeo youtube subscribe dogecoin dwolla forbrugsforeningen litecoin amazon_payments american_express bitcoin cirrus discover fancy interac jcb master paypal stripe visa diners_club dankort maestro trash Potty Genius Blog Tell Your Story Games Free Undies Shop Free Undies! Potty Genius Blog — Potty Training Boys — Potty Training Girls — Potty Training Methods Tell Your Story — User Stories Games Free Undies Shop Get Ready to Train! Get ready to Train It all starts with changing the mindset. We can’t just tell children it's time to potty... by marshall mizrahi Potty Genius Blog Pull Ups®? Potty Genius Blog Recognize your Child's Toilet Training Readiness Potty Genius Blog Eva Shockey on Potty Training Potty Genius Blog Shannen Michaela on Elimination Communication Potty Genius Blog Potty Training A Child with Down Syndrome Potty Genius Blog Potty Training Boys and Girls Potty training is challenging regardless of your toddler’s gender. That said, potty training boys is a bit different than potty training girls. While it is obvious that males and females use the bathroom differently, there are some other distinct potty training differences parents may run into when potty training boys versus girls. by Brittany Tacket, MA Potty Genius Blog Tips for Potty Training Boys Potty Genius Blog Potty Training Boys as a Mother Potty Genius Blog What I Wish I Knew During Potty Training Potty Genius Blog Potty Training Children with Autism Potty Genius Blog IT’S POTTY TRAINING TIME WITH POTTY GENIUS! Potty Genius Blog 5 Potty Training Supplies You Need If you’re a dad potty training your kid, then you’ve probably read a lot of literature about what products and supplies you’ll need. However, the best potty training toolbox is still incomplete because there are some things that no one ever told you to buy. These are the small items that do heavy lifting, and they range from making your kids feel more responsible to simply helping you get back to sleep quicker after your kid has an accident in the middle of the night. Keep reading to discover four potty training supplies no one warns you about! by Dr. Chris Snellgrove Potty Genius Blog Why Parents Procrastinate When Potty Training Potty Genius Blog Cotton Training Pants... The Key to Potty Training Potty Genius Blog Diaper Free in the 21st Century Potty Genius Blog How to Teach Wiping… Slow and Easy Potty Genius Blog Effective Strategies to Prepare Your Child for Toilet Training 1 2 3 4 5 6 7 Next Shopping Cart\"),\n",
       " Document(metadata={'content_type': 'text/html; charset=utf-8', 'title': '\\n  Potty Training Boys as a Mother – Potty Genius\\n  ', 'source': 'https://pottygenius.com/blogs/blog/the-joy-of-potty-training-boys', 'language': None, '_id': '3dd42235-0520-4149-8eef-9eaa9425c5ad', '_collection_name': 'PottyTraining'}, page_content='Potty Training Boys as a Mother – Potty Genius arrow-right cart chevron-down chevron-left chevron-right chevron-up close menu minus play plus search share user email pinterest facebook instagram snapchat tumblr twitter vimeo youtube subscribe dogecoin dwolla forbrugsforeningen litecoin amazon_payments american_express bitcoin cirrus discover fancy interac jcb master paypal stripe visa diners_club dankort maestro trash Potty Genius Blog Tell Your Story Games Free Undies Shop Free Undies! Potty Genius Blog — Potty Training Boys — Potty Training Girls — Potty Training Methods Tell Your Story — User Stories Games Free Undies Shop Potty Genius Blog Potty Training Boys as a Mother by Catherine Cheshire Catherine Cheshire is a busy working mother of four with over 20 years experience in consumer health products and a massive amount of both research and “hands-on” experience in potty training. Share Share #Boys #Boys-Home #Potty Training Boys #tips As a single mom when my youngest son was ready to potty train, I wasn’t prepared for the difference in training his older sisters. Now, years later as I work with parents training children of all shapes, sizes and genders it’s important to stress the difference. At the very least boys have additional steps in the overall potty training process. Failing to follow these steps in a specific order can lead to little boys peeing on your sister’s shoes at your engagement party (true story). It’s often advised for dads or another trusted men to allow little boys to follow their example. But what do you do when you’re a single mom? The first step in potty training is the same for boys and girls. Everyone should start training by sitting down! The “sit-training” part allows for confidence, stability and better aim. Until a little boy can do that step comfortably and consistently, they shouldn’t move on to standing. In addition, whether they are using the potty or toilet or anywhere else it is important they can comfortably reach the toilet and have good balance wherever they are going. Once you move on to stand-training it can be helpful to give little boys targets they can see clearly. Cereals that float are often used by parents and there are products that use projected lights and all sorts of fun variations available now. Often you hear that boys are harder train, that was not my experience, but every child is different. My advice: start to observe the signs at 18 months. Make sure you’re comfortable setting the example for your little man, choose the process you want to use and make it an adventure! Share Share #Boys #Boys-Home #Potty Training Boys #tips Please enable JavaScript to view the comments powered by Disqus. More Potty Genius Blog Potty Training Boys and Girls Tips for Potty Training Boys Cotton Training Pants... The Key to Potty Training How to Teach Wiping… Slow and Easy Shopping Cart'),\n",
       " Document(metadata={'title': '\\n  Potty Genius Blog – Tagged Boys\\n  ', 'content_type': 'text/html; charset=utf-8', 'language': None, 'source': 'https://pottygenius.com/blogs/blog/tagged/boys', '_id': '2b7e4f73-ce8b-4017-9a80-677a0061abac', '_collection_name': 'PottyTraining'}, page_content=\"potty genius blog – tagged boys                                             potty genius blog  games  shop ! potty genius blog — potty training boys — potty training girls — potty training methods  —  stories games  shop potty training boys and girls potty training is challenging regardless of your toddler’s gender. that said, potty training boys is a bit different than potty training girls. while it is obvious that males and females use the bathroom differently, there are some other distinct potty training differences parents may run into when potty training boys versus girls. by brittany tacket, ma potty genius blog tips for potty training boys potty genius blog potty training boys as a mother potty genius blog how to teach wiping… slow and easy potty genius blog when your child doesn't want to potty train potty genius blog how to teach boys to pee standing up shopping \")]"
      ]
     },
     "execution_count": 19,
     "metadata": {},
     "output_type": "execute_result"
    }
   ],
   "source": [
    "# set up retriever and see what we get with a simple query\n",
    "retriever = qdrant_vector_store.as_retriever(\n",
    "    search_type=\"mmr\",  # Options: 'similarity', 'mmr', etc.\n",
    "    search_kwargs={\"k\": 5}     # Number of documents to retrieve\n",
    ")\n",
    "retriever.invoke(\"How is potty training boys different from potty training girls\")"
   ]
  },
  {
   "cell_type": "markdown",
   "metadata": {},
   "source": [
    "Now let's put it all together!"
   ]
  },
  {
   "cell_type": "code",
   "execution_count": 20,
   "metadata": {},
   "outputs": [],
   "source": [
    "from operator import itemgetter\n",
    "from langchain_core.runnables import RunnablePassthrough\n",
    "\n",
    "rag_chain = (\n",
    "    {\"context\": itemgetter(\"query\") | retriever, \"query\": itemgetter(\"query\")} \n",
    "    | RunnablePassthrough.assign(context=itemgetter(\"context\"))\n",
    "    | {\"response\": rag_prompt | llm}\n",
    ")"
   ]
  },
  {
   "cell_type": "code",
   "execution_count": 22,
   "metadata": {},
   "outputs": [
    {
     "name": "stdout",
     "output_type": "stream",
     "text": [
      "{'response': 'There is no conclusive evidence to suggest that using jelly '\n",
      "             'beans can be an effective or helpful tool for potty training. In '\n",
      "             'fact, introducing non-food items like jelly beans during potty '\n",
      "             'training can potentially create more problems than solutions.\\n'\n",
      "             '\\n'\n",
      "             'Some potential issues with using jelly beans as a potty training '\n",
      "             'aid include:\\n'\n",
      "             '\\n'\n",
      "             '1. Allergies: Jelly beans are made from a mixture of sugar, corn '\n",
      "             'syrup, and food coloring. Some children may be allergic to these '\n",
      "             'ingredients, which could lead to skin irritation or other '\n",
      "             'adverse reactions.\\n'\n",
      "             '2. Nutritional value: Jelly beans are high in added sugars and '\n",
      "             'low in nutritional value, which may not provide your child with '\n",
      "             'the energy they need to engage in physical activity or maintain '\n",
      "             'focus during potty training.\\n'\n",
      "             '3. Distraction: The colorful appearance of jelly beans can '\n",
      "             'distract from the learning process and make it difficult for '\n",
      "             'your child to focus on the task at hand.\\n'\n",
      "             '\\n'\n",
      "             'Instead of using jelly beans, consider these alternative tips:\\n'\n",
      "             '\\n'\n",
      "             '1. Provide a positive environment: Create a clean, comfortable, '\n",
      "             'and encouraging atmosphere that promotes relaxation and reduces '\n",
      "             'anxiety.\\n'\n",
      "             '2. Establish a routine: Develop a consistent potty training '\n",
      "             'routine, including regular visits to the bathroom and praise for '\n",
      "             'attempts.\\n'\n",
      "             '3. Make it fun: Use songs, toys, or other engaging activities to '\n",
      "             'make the learning process enjoyable and interactive.\\n'\n",
      "             '\\n'\n",
      "             \"If you're looking for creative ways to encourage your child's \"\n",
      "             'development, consider exploring other options like:\\n'\n",
      "             '\\n'\n",
      "             '1. Potty chairs or seats with built-in designs or shapes\\n'\n",
      "             '2. Music-based potty training apps or games\\n'\n",
      "             '3. Visual aids like pictures or charts to help your child '\n",
      "             'understand the concept of a bathroom\\n'\n",
      "             '\\n'\n",
      "             'Remember, every child is different, and what works for one may '\n",
      "             \"not work for another. If you're concerned about your child's \"\n",
      "             'potty training progress or have questions, consult with your '\n",
      "             'pediatrician or a qualified healthcare professional for '\n",
      "             'personalized guidance.'}\n"
     ]
    }
   ],
   "source": [
    "# I used jelly beans as rewards to help potty train my child. Was that bad?\n",
    "from pprint import pprint\n",
    "answer = rag_chain.invoke(input={'query':\"Should I use jelly beans to help potty train my child?\"})\n",
    "pprint(answer)\n",
    "\n",
    "# Notice that the LLM thinks jelly beans are \"non-food items.\" 1Bn parameter models aren't that bright."
   ]
  }
 ],
 "metadata": {
  "kernelspec": {
   "display_name": "local_rag",
   "language": "python",
   "name": "python3"
  },
  "language_info": {
   "codemirror_mode": {
    "name": "ipython",
    "version": 3
   },
   "file_extension": ".py",
   "mimetype": "text/x-python",
   "name": "python",
   "nbconvert_exporter": "python",
   "pygments_lexer": "ipython3",
   "version": "3.9.12"
  }
 },
 "nbformat": 4,
 "nbformat_minor": 2
}
