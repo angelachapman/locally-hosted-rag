{
 "cells": [
  {
   "cell_type": "code",
   "execution_count": 2,
   "metadata": {},
   "outputs": [
    {
     "data": {
      "text/plain": [
       "{'model': 'llama3.2:1b',\n",
       " 'created_at': '2024-10-11T00:33:17.799145Z',\n",
       " 'message': {'role': 'assistant',\n",
       "  'content': \"Leaves changing color in the fall is a natural process that occurs when the days get shorter and the weather gets cooler. This process is triggered by the decrease in daylight hours, typically around September or October in the Northern Hemisphere.\\n\\nHere's what happens:\\n\\n1. **Shorter days**: As the Earth continues its orbit around the Sun, the amount of sunlight that reaches the Earth's surface decreases. In the fall, the days get shorter, which means there are fewer hours of daylight for plants to photosynthesize.\\n2. **Cooler temperatures**: As the weather cools down, the trees slow down their growth rate and prepare for winter. This is because they need to conserve energy and resources to survive the cold temperatures.\\n3. **Increased sugar concentration**: In the fall, trees stop producing as much chlorophyll (the green pigment that helps plants absorb sunlight) in preparation for winter. However, other pigments like carotenoids and anthocyanins remain present and start to become visible.\\n4. **Carotenoids and anthocyanins**: Carotenoids are yellow, orange, and brown pigments that are always present in leaves. They're responsible for the autumn colors we see. Anthocyanins, on the other hand, are red or purple pigments produced by plants during stress or ripening. In the fall, these pigments become more prominent as the trees prepare to shed their leaves.\\n5. **Combination of factors**: The combination of shorter days, cooler temperatures, and increased sugar concentration creates a perfect storm for leaf color change.\\n\\nWhen all these factors come together, the leaves change color from green to:\\n\\n* Yellow\\n* Orange\\n* Red\\n* Purple\\n\\nThis beautiful display of autumn colors is a natural part of the cycle, and it's a great time to enjoy the changing foliage before winter sets in.\"},\n",
       " 'done_reason': 'stop',\n",
       " 'done': True,\n",
       " 'total_duration': 15878255958,\n",
       " 'load_duration': 1083216167,\n",
       " 'prompt_eval_count': 33,\n",
       " 'prompt_eval_duration': 67432000,\n",
       " 'eval_count': 374,\n",
       " 'eval_duration': 14725836000}"
      ]
     },
     "execution_count": 2,
     "metadata": {},
     "output_type": "execute_result"
    }
   ],
   "source": [
    "import ollama\n",
    "\n",
    "model = \"llama3.2:1b\"\n",
    "message_content = 'why do leaves change in the fall?'\n",
    "message = {'role': 'user', 'content': message_content}\n",
    "\n",
    "# Try to call ollama directly - this assumes Ollama is already installed, along with the target model\n",
    "ollama.chat(model=model,messages=[message])"
   ]
  },
  {
   "cell_type": "code",
   "execution_count": 3,
   "metadata": {},
   "outputs": [],
   "source": [
    "from langchain_ollama.llms import OllamaLLM\n",
    "llm = OllamaLLM(model=model)"
   ]
  },
  {
   "cell_type": "code",
   "execution_count": 4,
   "metadata": {},
   "outputs": [],
   "source": [
    "from langchain_core.prompts import PromptTemplate\n",
    "\n",
    "RAG_PROMPT_TEMPLATE = \"\"\"\\\n",
    "<|start_header_id|>system<|end_header_id|>\n",
    "You are a helpful assistant. You answer user questions based on context. If you can't answer the question with the context, say you don't know.\n",
    "Context:\n",
    "{context}\n",
    "<|eot_id|>\n",
    "\n",
    "<|start_header_id|>user<|end_header_id|>\n",
    "User Question:\n",
    "{query}\n",
    "<|eot_id|>\n",
    "\n",
    "<|start_header_id|>assistant<|end_header_id|>\n",
    "\"\"\"\n",
    "\n",
    "rag_prompt = PromptTemplate.from_template(RAG_PROMPT_TEMPLATE)"
   ]
  },
  {
   "cell_type": "code",
   "execution_count": 5,
   "metadata": {},
   "outputs": [],
   "source": [
    "rag_chain = rag_prompt | llm"
   ]
  },
  {
   "cell_type": "code",
   "execution_count": 6,
   "metadata": {},
   "outputs": [
    {
     "data": {
      "text/plain": [
       "'Carl is 40 years old.'"
      ]
     },
     "execution_count": 6,
     "metadata": {},
     "output_type": "execute_result"
    }
   ],
   "source": [
    "rag_chain.invoke({\"query\" : \"How old is Carl?\", \"context\" : \"Carl is a sweet dude, he's 40.\"})"
   ]
  },
  {
   "cell_type": "code",
   "execution_count": 7,
   "metadata": {},
   "outputs": [],
   "source": [
    "from langchain_ollama import OllamaEmbeddings\n",
    "\n",
    "embeddings = OllamaEmbeddings(\n",
    "    model=\"mxbai-embed-large\",\n",
    ")"
   ]
  },
  {
   "cell_type": "code",
   "execution_count": 8,
   "metadata": {},
   "outputs": [
    {
     "name": "stdout",
     "output_type": "stream",
     "text": [
      "data/Planning for Care Costs _ Alzheimer's Association.html\n"
     ]
    }
   ],
   "source": [
    "import os\n",
    "\n",
    "files = os.listdir(\"data\")\n",
    "files = [os.path.join(\"data\", file) for file in files]\n",
    "\n",
    "print(files[0])"
   ]
  },
  {
   "cell_type": "code",
   "execution_count": 9,
   "metadata": {},
   "outputs": [
    {
     "name": "stdout",
     "output_type": "stream",
     "text": [
      "[Document(metadata={'source': \"data/Planning for Care Costs _ Alzheimer's Association.html\", 'title': \"\\n\\tPlanning for Care Costs | Alzheimer's Association\\n\"}, page_content='\\n\\n\\tPlanning for Care Costs | Alzheimer\\'s Association\\n\\n\\n\\n\\n\\n\\n\\n\\n\\n\\n\\n\\n\\n\\n\\n\\n\\n\\n\\n\\n\\n\\n\\n\\n\\n\\n\\n\\n\\n\\n\\n\\n\\n\\n\\n\\n\\n\\n\\n\\n\\n\\n\\n\\n\\n\\n\\n\\n\\n\\n\\n\\n\\n\\n\\n\\n\\n\\n\\n\\n\\n\\n\\n\\n\\n\\n\\n\\n\\n\\n\\n\\n\\n\\n\\n\\n\\n\\n\\n\\n\\n\\n\\n\\n\\n\\n\\n\\n\\n\\n\\n\\n\\n\\n\\n\\n\\n\\n\\n\\n\\n\\n\\n\\n\\n\\n\\n\\n\\n\\n\\n\\n\\n\\n\\n\\n\\n\\n\\n\\n\\n\\n\\nCall our 24 hours, seven days a week helpline at 800.272.3900\\n\\n\\n\\n\\n\\nmenu\\n\\n\\nAbout\\nNews\\nEvents\\nProfessionals\\nEn Español\\nE-News\\n\\n\\n\\n\\n\\n24/7 Helpline\\n\\n800.272.3900\\n\\nDonate\\n\\n\\n\\n\\n\\n\\nAlzheimer\\'s & Dementia\\n\\n\\n\\nWhat is Alzheimer’s Disease?Brain TourYounger/Early-Onset Alzheimer\\'sMythsWhat Are the Causes and Risk Factors of Alzheimer\\'s and Other Dementias?Is Alzheimer\\'s Genetic?Women and Alzheimer\\'sWhat Is Dementia?Types of DementiaCreutzfeldt-Jakob DiseaseDementia with Lewy BodiesDown Syndrome & Alzheimer\\'sFrontotemporal DementiaHuntington\\'s DiseaseMixed DementiaNormal Pressure HydrocephalusPosterior Cortical AtrophyParkinson\\'s Disease DementiaVascular DementiaKorsakoff SyndromeRelated ConditionsCTEMCITraumatic Brain Injury (TBI)Know the 10 SignsDifference Between Alzheimer\\'s & Dementia10 Steps to Approach Memory Concerns in OthersHow is Alzheimer\\'s Disease Diagnosed?Medical Tests for Diagnosing Alzheimer\\'sWhy Get Checked?Visiting Your DoctorLife After DiagnosisStages of Alzheimer\\'sResearch and ProgressEarlier DiagnosisPart the CloudResearch MomentumOur Commitment to ResearchClinical TrialsTrialMatch: Find a Clinical TrialWhat Are Clinical Trials?How Clinical Trials WorkWhen Clinical Trials EndWhy Participate?Talk to Your DoctorClinical Trials: Myths vs. FactsMilestonesCan Alzheimer\\'s Disease Be Prevented?Brain DonationTreatments for Alzheimer\\'sNavigating Treatment OptionsAducanumab Discontinued as Alzheimer\\'s TreatmentDonanemab Approved for Treatment of Early Alzheimer\\'s DiseaseLecanemab Approved for Treatment of Early Alzheimer\\'s DiseaseMedicare Treatment CoverageQuestions for Your DoctorMedications for Memory, Cognition and Dementia-Related BehaviorsTreatments for BehaviorTreatments for Sleep ChangesAlternative TreatmentsFacts and FiguresAssessing Symptoms and Seeking HelpNow is the Best Time to Talk about Alzheimer\\'s Together\\n\\nHelp & Support\\n\\n\\n\\nI Have Alzheimer\\'sKnow What to ExpectGet EducatedJust DiagnosedSharing Your DiagnosisChanges in RelationshipsIf You Live AloneTreatments and ResearchPlan for Your FutureLegal PlanningFinancial PlanningBuilding a Care TeamEnd-of-Life PlanningPrograms and SupportOvercoming StigmaYounger-Onset Alzheimer\\'sLive WellTaking Care of YourselfReducing StressTips for Daily LifeHelping Family and FriendsLeaving Your LegacyLive Well Online ResourcesMake a DifferenceCaregivingDaily CareDaily Care PlanActivitiesCommunication and Alzheimer\\'sFood and EatingArt and MusicIncontinenceBathingDressing and GroomingDental CareTreatmentsWorking With the DoctorMedication SafetyClinical TrialsTrialMatch: Find a Clinical TrialWhat Are Clinical Trials?How Clinical Trials WorkWhen Clinical Trials EndWhy Participate?Talk to Your DoctorClinical Trials: Myths vs. FactsStages and BehaviorsAccepting the DiagnosisEarly-Stage CaregivingMiddle-Stage CaregivingLate-Stage CaregivingAggression and AngerAnxiety and AgitationDepressionHallucinationsMemory Loss and ConfusionRepetitionSleep Issues and SundowningSuspicions and DelusionsWanderingCare OptionsIn-Home CareAdult Day CentersLong-Term CareRespite CareHospice CareChoosing Care ProvidersGeriatric CareFinding a Memory Care-Certified Nursing Home or Assisted Living CommunityChanging Care ProvidersWorking with Care ProvidersCreating Your Care TeamLong-Distance CaregivingCommunity Resource FinderGlossaryCaregiver HealthBe a Healthy CaregiverCaregiver StressCaregiver Stress CheckCaregiver DepressionChanges to Your RelationshipGrief and Loss as Alzheimer\\'s ProgressesSafetyWanderingHome SafetyDementia and DrivingMedication SafetyTechnology 101TravelingPreparing for EmergenciesAbuseFinancial and Legal Planning for CaregiversManaging Money Online ProgramPlanning for Care CostsPaying for CareInsuranceHealth Care Appeals for People with Alzheimer\\'s and Other DementiasSocial Security DisabilityMedicareMedicare Part D BenefitsMedicaidTax Deductions and CreditsPlanning Ahead for Legal MattersLegal DocumentsResourcesALZ Talks Virtual EventsALZNavigator™Veterans and DementiaAssessing Symptoms and Seeking HelpThe Knight Family Dementia Care Coordination InitiativeHelplineOnline ToolsAsian Americans and Pacific Islanders and Alzheimer\\'sNative Americans and Alzheimer\\'s Black Americans and Alzheimer\\'s Hispanic Americans and Alzheimer\\'sLGBTQ+ Community Resources for DementiaEducational Programs and Dementia Care ResourcesHelping Kids Understand Alzheimer\\'s and DementiaBrain FactsActivities to Enjoy With Someone Who Has Alzheimer\\'s or DementiaAlzheimer\\'s and Dementia Resources for ChildrenAlzheimer\\'s and Dementia Resources for TeenagersTalking to Kids About Alzheimer\\'s and DementiaResolving Family ConflictsThe Holidays and Alzheimer’s Holiday Gift Guide for Caregivers and People Living with DementiaPublicationsTrajectory ReportVirtual LibraryResource ListsSearch DatabasesPublicationsFavorite LinksBrain Health10 Healthy Habits for Your BrainStay Physically ActiveAdopt a Healthy DietStay Mentally and Socially ActiveCommunityOnline Community Support GroupsFind Your Local ChapterBlog\\n\\nResearch\\n\\n\\n\\nAny Given MomentNew IDEAS StudyResearch and ProgressEarlier DiagnosisPart the CloudResearch MomentumOur Commitment to ResearchClinical TrialsTrialMatch: Find a Clinical TrialWhat Are Clinical Trials?How Clinical Trials WorkWhen Clinical Trials EndWhy Participate?Talk to Your DoctorClinical Trials: Myths vs. FactsMilestonesCan Alzheimer\\'s Disease Be Prevented?Brain DonationProfessional ResearchersAdvisory GroupBruce T. Lamb, Ph.D., ChairChristopher van Dyck, M.D.Cynthia Lemere, Ph.D.David Knopman, M.D.Lee A. Jennings, M.D. MSHSKaren Bell, M.D.Lea Grinberg, M.D., Ph.D.Malú Tansey, Ph.D.Mary Sano, Ph.D.Oscar Lopez, M.D.Suzanne Craft, Ph.D.RFI Amyloid PET Depletion Following TreatmentCriteria for Diagnosis and StagingInternational Research Grant ProgramAbout Our GrantsThe International Research Grant Program CouncilAndrew Kiselica, Ph.D., ABPP-CNArjun Masurkar, M.D., Ph.D.Benjamin Combs, Ph.D.Charles DeCarli, M.D.Damian Holsinger, Ph.D.David Soleimani-Meigooni, Ph.D.Donna M. Wilcock, Ph.D.Elizabeth Head, M.A, Ph.D.Fan Fan, M.D.Fayron Epps, Ph.D., R.N.Ganesh Babulal, Ph.D., OTDHui Zheng, Ph.D.Jason D. Flatt, Ph.D., MPHJennifer Manly, Ph.D.Joanna Jankowsky, Ph.D.Luis Medina, Ph.D.Marcello D’Amelio, Ph.D.Marcia N. Gordon, Ph.D.Margaret Pericak-Vance, Ph.D.María Llorens-Martín, Ph.D.Nancy Hodgson, Ph.D.Shana D. Stites, Psy.D., M.A., M.S.Walter Swardfager, Ph.D.View and Apply for a GrantCDRI GrantALZ WW-FNFP GrantNIAP GrantCapacity Building in International Dementia Research ProgramISTAART IGPCCAlzheimer’s Disease Strategic Fund: Endolysosomal Activity in Alzheimer’s (E2A) Grant ProgramALZ WW-FNFP GrantImaging Research in Alzheimer’s and Other Neurodegenerative DiseasesRAPIDAARG-NTFABAPTCSupporting Research in Health Disparities, Policy and Ethics in Alzheimer’s Disease and Dementia Research (HPE-ADRD)Zenith Fellow AwardsAACSFAACSF-DAlzheimer\\'s Association Research Fellowship (AARF) I alz.orgAlzheimer\\'s Association Research Fellowship to Promote Diversity (AARF-D)Alzheimer\\'s Association Research Grant (AARG)AARG-DAARG-D-NTFAARG-NTFARCOM2024 Part the Cloud Translational (PTC) Gene Targeting ChallengePartnership Funding ProgramsNational Academy of Neuropsychology & Alzheimer’s Association Funding OpportunityPart the Cloud-Gates Partnership Grant Program: Bioenergetics and InflammationPilot Awards for Global Brain Health Leaders (Invitation Only)GEENA-QRobert W. Katzman, M.D., Clinical Research Training ScholarshipT-PEPAIABANDMCDNACTOFunded StudiesHow to ApplyPortfolio SummariesAnnual Conference: AAICJournalsAlzheimer\\'s & DementiaAlzheimer\\'s & Dementia: DADMAlzheimer\\'s & Dementia: TRCIAlzheimer’s & Dementia: Behavior and Socioeconomics of AgingProfessional Society: ISTAARTPartnershipsInternational Network to Study SARS-CoV-2 Impact on Behavior and CognitionAlzheimer’s Association Business Consortium (AABC)Global Biomarker Standardization Consortium (GBSC)Global Alzheimer’s Association Interactive NetworkInternational Alzheimer\\'s Disease Research PortfolioAlzheimer’s Disease Neuroimaging Initiative Private Partner Scientific Board (ADNI-PPSB)Research RoundtableWW-ADNI About WW-ADNINorth American ADNIEuropean ADNIJapan ADNIAustralia ADNITaiwan ADNIKorea ADNIChina ADNIArgentina ADNIWW-ADNI MeetingsHow to Include a Clinical TrialSubmit StudyRFI Inclusive Language GuideScientific ConferencesAUC for Amyloid and Tau PET Imaging\\n\\nGet Involved\\n\\n\\n\\nMake a DonationParticipate in an EventWalk to End Alzheimer\\'sThe Longest DayRivALZ to End ALZRide to End ALZ Other Ways to GiveDonate Gold & Sterling SilverMake a DonationTribute PagesPlanned GivingGift Options to Meet Your GoalsFounders SocietyMeet Our DonorsFred BernhardtAnjanette KichlineLori A. JacobsonPam and Bill RussellGina AdelmanFranz and Christa BoetschAdrienne EdelsteinSue SawyerFor Professional AdvisorsFree Planning GuidesContact the Planned Giving StaffWorkplace GivingDo Good to End ALZDonate a VehicleDonate StockDonate CryptocurrencyDonate Gold & Sterling SilverDonor-Advised FundsUse of FundsGiving SocietiesAdvocateWhy We AdvocateAmbassador ProgramAbout the Alzheimer’s Impact MovementResearch FundingImproving CareSupport for People Living With DementiaPublic Policy VictoriesPlanned GivingTribute PagesVolunteerFind a Volunteer OpportunityCommunity EducatorCommunity RepresentativeSupport Group Facilitator or MentorFaith Outreach RepresentativeEarly Stage Social Engagement LeadersData Entry VolunteerTech Support VolunteerOther Local OpportunitiesVisit the Program Volunteer Community to Learn MorePartners and SponsorsBecome a Corporate PartnerMeet Our PartnersGoodcentsHonored DonorsThe Judy FundA Family AffairA Message from Elizabeth  Donor SpotlightThe Belin FamilyThe Eliashar FamilyThe Fremont FamilyThe Freund FamilyJeff and Randi Gillman Harold Matzner The Mendelson FamilyPatty and Arthur Newman The Ozer FamilySalon SeriesSigma Alpha MuNo Shave NovemberOther Philanthropic Activities Still AliceAdvocacyResearchThe Judy Fund E-blast ArchiveThe Judy Fund in the NewsThe Judy Fund Newsletter ArchivesNARFENARFE NewsOSIASigma Kappa FoundationAlpha Delta KappaParrot Heads in ParadiseTau Kappa Epsilon (TKE)Sigma Alpha MuGiving SocietiesAlois SocietyAlois Society Member Levels and BenefitsAlois Society Member ResourcesZenith SocietyFounder\\'s SocietyAspire SocietyAspire Society Member SpotlightJoel BermanJR and Emily PaterakisTenny Tsai Legal Industry Leadership CouncilAccounting Industry Leadership CouncilShop\\n\\nYour Chapter\\n\\n\\n\\n\\n\\n\\n\\n\\nSearch\\n\\n\\n\\n\\n\\n\\n\\n\\n\\n\\n\\n\\n\\n\\nMassachusetts/New Hampshire\\nChange Location\\n\\n\\n\\n\\n\\n\\nclosego back\\n\\n\\n\\n\\n\\n\\n\\n\\n\\n\\n\\n\\n\\n\\n\\nHelping YouCare Consultation24/7 HelplineEducation ProgramsDementia Care CoordinationEarly Stage Programs and ServicesCOVID-19 Local ResourcesEstamos para ayudarloProfessional Training & EducationRequest a SpeakerSupport GroupsTip Sheets and Informational MaterialsWeb LinksProvider Resources\\nEvents\\nVolunteerShare Your StoryWe are #ALZin!Young ProfessionALZ\\nNews\\nBlog\\nDonate\\nAbout UsOur TeamHistory & BackgroundCareersContact UsSpeaking of Alzheimer\\'s podcastThe Giving SpiritYear in Review\\nAdvocacyAdvocate FederallyAdvocate in MassachusettsAdvocate in New HampshireVolunteer as an Advocate\\n\\n\\n\\n\\nSearch Alzheimer’s Association\\n\\n\\n\\n\\n\\n\\n\\n\\n\\n\\n\\n\\n\\n\\n\\n\\n\\n\\n\\n\\nFinancial and Legal Planning for Caregivers\\n\\n\\n\\nPlanning for Care Costs\\n\\n\\n\\nPlanning for Care Costs\\nShare or Print this page\\n\\nShare or Print this page\\n\\n\\n\\n\\n\\n\\n\\n\\n\\n\\n\\nPaying for care is a big concern as Alzheimer\\'s progresses. Putting financial plans in place as soon as the diagnosis has been made can help you secure your financial future.\\n\\n\\n\\n\\nCosts you may face\\n\\n\\nDocuments you\\'ll need\\n\\n\\nDetermine needs and goals\\n\\n\\nConsider your resources\\n\\n\\nGet professional assistance\\n\\n\\n\\n\\nCosts you may face\\n\\nTo plan for financial needs during the course of Alzheimer\\'s disease, you\\'ll need to consider all the costs you might face now and in the future. Keep in mind that Alzheimer’s is a progressive disease and the person’s needs will change over time. While medical or other forms of insurance may cover some of these costs, they may not cover all.\\n\\xa0\\n\\nCommon care costs include:\\n\\nOngoing medical treatment for Alzheimer\\'s-related symptoms, diagnosis and follow-up visits.\\nTreatment or medical equipment for other medical conditions.\\nSafety-related expenses, such as home safety modifications or safety services for a person who wanders.\\nPrescription drugs.\\nPersonal care supplies.\\nAdult day care services.\\nIn-home care services.\\nFull-time residential care services.\\n\\nTip: Care costs will vary depending upon where you live. Have a family meeting to discuss how much future care might cost and to make financial plans. Consider using professional legal and financial advisors for guidance.\\nMedian costs for long-term care services 2023\\nLong-term care services include home- and community-based services, assisted living and nursing home care.\\n\\nHome care: A paid non-medical home health aide is $33\\xa0per hour and $1,320\\xa0per week (assuming 40 hours of care per week).\\nAdult day services: $95\\xa0per day.\\nAssisted living facilities: $5,350\\xa0per month or $64,200\\xa0per year.\\nPrivate room in a nursing home: $320\\xa0per day or $116,800\\xa0per year.\\nSemi-private room in a nursing home: $285\\xa0per day or $104,025\\xa0per year.\\n\\nSource: Genworth. Cost of Care Survey: National Median Costs.\\n\\nDocuments you\\'ll need\\nGather and organize financial documents in one place. Then, carefully review all the documents, even if you\\'re already familiar with them.\\n\\xa0\\nFinancial documents include:\\n\\nBank and brokerage account information.\\nDeeds, mortgage papers or ownership statements.\\nInsurance policies.\\nMedical and durable powers of attorney.\\nMonthly or outstanding bills.\\nPension and other retirement benefit summaries (including VA benefits, if applicable).\\nRental income paperwork.\\nSocial Security payment information.\\nStock and bond certificates.\\nWills.\\n\\nAt this point, it may also be helpful to identify which necessary documents are not in place. Professional financial and legal advisors can assist you with this task. You\\'ll also need to learn about the legal documents needed to plan for long-term care.\\nDetermine needs and goals\\n\\n\\n\\nFree e-Learning course\\nLearn how to put legal and financial plans in place and how to access resources near you.\\nSign Up Today\\n\\n\\n\\n\\nBring family together to talk about putting financial and care plans in place. Discussing financial needs and goals early on enables the person with dementia to still understand the issues and to talk about his or her wishes. If others are available to help, encourage the sharing of caregiving duties. And discuss how finances might be pooled to provide necessary care.\\n\\n\\nIn addition to planning for the cost of care, there are many ongoing financial duties to discuss, including:\\n\\nPaying bills.\\nArranging for benefit claims.\\nMaking investment decisions.\\nPreparing tax returns.\\n\\n\\nHelp is available\\nNeed additional information about \"Managing Someone Else\\'s Money\"? Download the Consumer Financial Protection Bureau’s free, four-part guide.\\n\\nHelp for Powers of Attorney (PDF)\\nHelp for Court-Appointed Guardians (PDF)\\nHelp for Trustees (PDF)\\nHelp for Representative Payees and VA Fiduciaries (PDF)\\n\\n\\nConsider your resources\\nConsider all the private and government financial resources that are available to you when planning for care costs.\\n\\xa0\\nThese may include:\\n\\xa0\\n\\nInsurance, including government insurance programs:\\n\\t\\nMedicare or a supplemental insurance policy.\\nDisability insurance from an employer-paid plan or personal policy.\\nGroup employee plan or retiree medical coverage.\\nLife insurance and long-term care insurance, which is usually not available for purchase after symptoms of Alzheimer\\'s appear.\\n\\n\\nGovernment help:\\n\\t\\nSocial Security Disability Income (SSDI) for workers under age 65.\\nSupplemental Security Income (SSI).\\nMedicaid.\\nVeterans\\' benefits.\\nTax deductions and credits, such as the Household and Dependent Care Credit.\\n\\n\\nCommunity support, including low- or no-cost support services, respite care, support groups, transportation and meal delivery.\\nRetirement benefits.\\nPersonal savings and assets.\\n\\n\\xa0\\n\\nGet professional assistance\\n\\n\\nFinancial advisors, such as financial planners and estate planning attorneys, are valuable sources of information and assistance. They can help you:\\n\\xa0\\n\\nIdentify potential financial resources.\\nIdentify tax deductions.\\nAnalyze your investment portfolio with long-term care needs in mind.\\n\\nWhen selecting a financial advisor, check qualifications such as:\\n\\nProfessional credentials.\\nWork experience.\\nEducational background.\\nMembership in professional associations.\\nAreas of specialty.\\n\\nMake sure to ask the financial advisor if he or she is familiar with elder care or long-term care planning.\\n\\n\\nHelp is available\\nDo you need assistance locating a financial advisor? Start with these resources:\\n\\nVisit the Eldercare Locator online or call 800.677.1116.\\nUse the online directory of the Financial Planning Association or call 800.322.4237.\\nUse the online directory\\xa0of the National Academy of Elder Law Attorneys.\\n\\n\\n\\nKey tips:\\n\\nTalk about finances and future care wishes soon after a diagnosis.\\nOrganize and review important documents.\\nGet help from well-qualified financial and legal advisors.\\nEstimate possible costs for the entire disease process.\\nLook at all of your insurance options.\\nConsider work-related salary/benefits and personal property as potential income.\\nFind out for which government programs you are eligible.\\nLearn about income tax breaks for which you may qualify.\\nExplore financial assistance you can personally provide.\\nTake advantage of low-cost and free community services.\\n\\n\\n\\n\\n\\nOther pages in Financial and Legal Planning for Caregivers\\n\\n\\nDaily Care\\n\\n\\nStages and Behaviors\\n\\n\\nCare Options\\n\\n\\nCaregiver Health\\n\\n\\nSafety\\n\\n\\nFinancial and Legal Planning for Caregivers\\n\\n\\nManaging Money Online Program \\n\\n\\nPlanning for Care Costs\\n\\n\\nPaying for Care\\n\\n\\nInsurance\\n\\n\\nHealth Care Appeals for People with Alzheimer\\'s and Other Dementias\\n\\n\\nSocial Security Disability\\n\\n\\nMedicare\\n\\n\\nMedicare Part D Benefits\\n\\n\\nMedicaid\\n\\n\\nTax Deductions and Credits\\n\\n\\nPlanning Ahead for Legal Matters\\n\\n\\nLegal Documents\\n\\n\\n\\n\\n\\n\\n\\n\\n\\n\\n\\nKeep Up With Alzheimer’s News and Events\\n\\n\\n\\n\\n\\n\\n\\n\\n\\n\\n\\n\\n\\n\\n\\n\\n\\n\\n\\n\\n\\n\\n\\n\\n\\n\\n\\n\\n\\n\\n\\n\\n\\n\\n\\n\\n\\nLocate dementia resources, programs and services in your area.\\nFind Community Resources\\n\\n\\n\\n\\nConnect with our free, online caregiver community.\\nJoin ALZConnected\\n\\n\\n\\n\\nLearn how Alzheimer’s disease affects the brain.\\nTake the Brain Tour\\n\\n\\n\\n\\n\\n\\n\\n\\nDonateMake a Donation\\n24/7 Helpline 800.272.3900\\nIn My AreaLocate Resources\\n\\n\\n\\n\\n\\n\\n\\n\\tHome Office\\n\\n\\t\\t225 N. Michigan Ave. Floor 17 Chicago, IL 60601\\n\\t\\n\\n\\n\\nJobs\\n\\xa0\\n\\nSecurity and Privacy Policy\\n\\xa0\\n\\nTerms of Use\\n\\xa0\\n\\nPressroom\\n\\xa0\\n\\nTransparency\\n\\xa0\\n\\nContact Us\\n\\xa0\\n\\nSelect Language\\n\\nEnglishEspañolOther\\n\\n\\xa0\\n\\n\\n© 2024 Alzheimer\\'s Association®. | All rights reserved. | Alzheimer\\'s Association is a not-for-profit 501(c)(3) organization.\\n\\n\\n\\n\\n\\n\\n\\n\\n\\n\\n\\n\\n\\n\\n\\n\\n\\n\\n\\n\\n\\n\\n\\n\\n\\n\\n\\n\\n\\n\\n\\n\\n\\n\\n\\n\\n\\n\\n\\n\\n\\n\\n\\n')]\n"
     ]
    }
   ],
   "source": [
    "from langchain_community.document_loaders import BSHTMLLoader\n",
    "\n",
    "docs = []\n",
    "for file in files:\n",
    "    loader = BSHTMLLoader(file) \n",
    "    docs.append(loader.load())\n",
    "\n",
    "print(docs[0])"
   ]
  },
  {
   "cell_type": "code",
   "execution_count": 41,
   "metadata": {},
   "outputs": [],
   "source": [
    "from langchain_qdrant import QdrantVectorStore\n",
    "\n",
    "url = \"192.168.2.42:6334\"\n",
    "qdrant = QdrantVectorStore.from_documents(\n",
    "    docs,\n",
    "    embeddings,\n",
    "    url=url,\n",
    "    prefer_grpc=True,\n",
    "    collection_name=\"Caregiver_Docs\",\n",
    ")"
   ]
  },
  {
   "cell_type": "code",
   "execution_count": 42,
   "metadata": {},
   "outputs": [
    {
     "ename": "TypeError",
     "evalue": "QdrantVectorStore.__init__() got an unexpected keyword argument 'url'",
     "output_type": "error",
     "traceback": [
      "\u001b[0;31m---------------------------------------------------------------------------\u001b[0m",
      "\u001b[0;31mTypeError\u001b[0m                                 Traceback (most recent call last)",
      "Cell \u001b[0;32mIn[42], line 1\u001b[0m\n\u001b[0;32m----> 1\u001b[0m qdrant_vectorstore \u001b[38;5;241m=\u001b[39m \u001b[43mQdrantVectorStore\u001b[49m\u001b[43m(\u001b[49m\n\u001b[1;32m      2\u001b[0m \u001b[43m    \u001b[49m\u001b[43murl\u001b[49m\u001b[38;5;241;43m=\u001b[39;49m\u001b[43murl\u001b[49m\u001b[43m,\u001b[49m\n\u001b[1;32m      3\u001b[0m \u001b[43m    \u001b[49m\u001b[43mcollection_name\u001b[49m\u001b[38;5;241;43m=\u001b[39;49m\u001b[38;5;124;43m\"\u001b[39;49m\u001b[38;5;124;43mDnD_Documents\u001b[39;49m\u001b[38;5;124;43m\"\u001b[39;49m\u001b[43m,\u001b[49m\n\u001b[1;32m      4\u001b[0m \u001b[43m    \u001b[49m\u001b[43mprefer_grpc\u001b[49m\u001b[38;5;241;43m=\u001b[39;49m\u001b[38;5;28;43;01mTrue\u001b[39;49;00m\u001b[43m,\u001b[49m\n\u001b[1;32m      5\u001b[0m \u001b[43m)\u001b[49m\n",
      "\u001b[0;31mTypeError\u001b[0m: QdrantVectorStore.__init__() got an unexpected keyword argument 'url'"
     ]
    }
   ],
   "source": [
    "qdrant_vectorstore = QdrantVectorStore.from_existing_collection(\n",
    "    embeddings=embeddings,\n",
    "    collection_name=\"DnD_Documents\",\n",
    "    url=url\n",
    ")"
   ]
  },
  {
   "cell_type": "code",
   "execution_count": null,
   "metadata": {},
   "outputs": [],
   "source": []
  }
 ],
 "metadata": {
  "kernelspec": {
   "display_name": "local_rag",
   "language": "python",
   "name": "python3"
  },
  "language_info": {
   "codemirror_mode": {
    "name": "ipython",
    "version": 3
   },
   "file_extension": ".py",
   "mimetype": "text/x-python",
   "name": "python",
   "nbconvert_exporter": "python",
   "pygments_lexer": "ipython3",
   "version": "3.9.12"
  }
 },
 "nbformat": 4,
 "nbformat_minor": 2
}
